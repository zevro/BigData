{
 "cells": [
  {
   "cell_type": "code",
   "execution_count": 1,
   "metadata": {},
   "outputs": [
    {
     "name": "stdout",
     "output_type": "stream",
     "text": [
      "Last Tweet @ 2021-01-30 20:34:32  - fetching some more\n",
      "Last Tweet @ 2021-01-28 22:33:33  - fetching some more\n",
      "Last Tweet @ 2021-01-28 07:01:45  - fetching some more\n",
      "Last Tweet @ 2021-01-26 20:21:33  - fetching some more\n",
      "Last Tweet @ 2021-01-24 20:26:08  - fetching some more\n",
      "Last Tweet @ 2021-01-21 21:00:16  - fetching some more\n",
      "Last Tweet @ 2021-01-16 01:20:44  - fetching some more\n",
      "Last Tweet @ 2021-01-13 21:43:54  - fetching some more\n",
      "Last Tweet @ 2021-01-12 11:30:39  - fetching some more\n",
      "Last Tweet @ 2021-01-09 18:59:40  - fetching some more\n",
      "Last Tweet @ 2021-01-07 22:30:35  - fetching some more\n",
      "Last Tweet @ 2021-01-04 20:57:05  - fetching some more\n",
      "Last Tweet @ 2020-12-30 18:15:27  - fetching some more\n",
      "Last Tweet @ 2020-12-29 20:52:23  - fetching some more\n",
      "Last Tweet @ 2020-12-27 08:05:17  - fetching some more\n",
      "Last Tweet @ 2020-12-25 21:08:14  - fetching some more\n",
      "Last Tweet @ 2020-12-23 17:41:36  - fetching some more\n",
      "Last Tweet @ 2020-12-20 09:21:01  - fetching some more\n",
      "Last Tweet @ 2020-12-17 04:08:02  - fetching some more\n",
      "Excel file ready\n"
     ]
    }
   ],
   "source": [
    "#!/usr/bin/env python\n",
    "# -*- coding: utf-8 -*-\n",
    "\n",
    "import tweepy\n",
    "import datetime\n",
    "import xlsxwriter\n",
    "import sys\n",
    "\n",
    "# credentials from https://apps.twitter.com/\n",
    "consumerKey = \"Your Key Here\"\n",
    "consumerSecret = \"Your Key Here\"\n",
    "accessToken = \"Your token here Here\"\n",
    "accessTokenSecret = \"Your secret token Here\"\n",
    "\n",
    "auth = tweepy.OAuthHandler(consumerKey, consumerSecret)\n",
    "auth.set_access_token(accessToken, accessTokenSecret)\n",
    "\n",
    "api = tweepy.API(auth)\n",
    "\n",
    "username = 'elonmusk'\n",
    "startDate = datetime.datetime(2020, 12, 15)\n",
    "endDate =   datetime.datetime(2021, 2, 2)\n",
    "\n",
    "tweets = []\n",
    "tmpTweets = api.user_timeline(username)\n",
    "for tweet in tmpTweets:\n",
    "    if tweet.created_at < endDate and tweet.created_at > startDate:\n",
    "        tweets.append(tweet)\n",
    "\n",
    "while (tmpTweets[-1].created_at > startDate):\n",
    "    print(\"Last Tweet @\", tmpTweets[-1].created_at, \" - fetching some more\")\n",
    "    tmpTweets = api.user_timeline(username, max_id = tmpTweets[-1].id)\n",
    "    for tweet in tmpTweets:\n",
    "        if tweet.created_at < endDate and tweet.created_at > startDate:\n",
    "            tweets.append(tweet)\n",
    "\n",
    "workbook = xlsxwriter.Workbook(username + \".xlsx\")\n",
    "worksheet = workbook.add_worksheet()\n",
    "row = 0\n",
    "for tweet in tweets:\n",
    "    worksheet.write_string(row, 0, str(tweet.id))\n",
    "    worksheet.write_string(row, 1, str(tweet.created_at))\n",
    "    worksheet.write(row, 2, tweet.text)\n",
    "    worksheet.write_string(row, 3, str(tweet.in_reply_to_status_id))\n",
    "    row += 1\n",
    "\n",
    "workbook.close()\n",
    "print(\"Excel file ready\")"
   ]
  }
 ],
 "metadata": {
  "kernelspec": {
   "display_name": "Python 3",
   "language": "python",
   "name": "python3"
  },
  "language_info": {
   "codemirror_mode": {
    "name": "ipython",
    "version": 3
   },
   "file_extension": ".py",
   "mimetype": "text/x-python",
   "name": "python",
   "nbconvert_exporter": "python",
   "pygments_lexer": "ipython3",
   "version": "3.8.3"
  }
 },
 "nbformat": 4,
 "nbformat_minor": 4
}
